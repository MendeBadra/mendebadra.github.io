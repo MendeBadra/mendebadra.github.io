{
 "cells": [
  {
   "cell_type": "raw",
   "metadata": {
    "vscode": {
     "languageId": "raw"
    }
   },
   "source": [
    "---\n",
    "title: How to succeed- My reflections\n",
    "date: 2025-04-06\n",
    "description: My initial thoughts about blogs, essays and writing in general.\n",
    "categories: [thoughts]\n",
    "---"
   ]
  },
  {
   "cell_type": "markdown",
   "metadata": {},
   "source": [
    "Today I listened to [Naval's podcast](https://youtu.be/KyfUysrNaco?si=5bQq-YABQ7I59I6J) and [Twitter pinned message](https://x.com/naval/status/1002103360646823936) and I got to say, it has one of the most interesting ideas. The idea of being \"unapoligetically selfish\" is the one that inspired me the most. Lately, I am becoming very unable to get the thing I wanted, find a way to a victory. Especially in football, I am certain that I can't seem to have cool-headedness. I feel like I'm a shame. But I have decided that, until I find success, I wouldn't quit this sport. I have quited it before, and I regret it now. Imagine who I would have been, if I didn't gave up so easily. "
   ]
  },
  {
   "cell_type": "markdown",
   "metadata": {},
   "source": [
    "I have now understood that, learning doesn't happen if I constantly bookmark the things for later, or Watch later in YouTube, I will not learn any new thing. And from the twitter posts, I have learned that I need to have a skill that is not replacable, not trainable( or at least very hard to reach). I need to find and follow my passion for Julia, mathematics, (Python is cool but Julia is cooler) and football.\n",
    "\n",
    "Judging from my current perspective I have made following list of wants:\n",
    " - Be a good footballer (GK)\n",
    " - Find a good wife in life\n",
    " - Become a very proficient coder (Want to pursue SciML)\n",
    "\n",
    " I feel like I do not want to become a professor.\n",
    "\n",
    " I want to do Julia for a living (if possible).\n",
    " "
   ]
  },
  {
   "cell_type": "markdown",
   "metadata": {},
   "source": []
  }
 ],
 "metadata": {
  "language_info": {
   "name": "python"
  }
 },
 "nbformat": 4,
 "nbformat_minor": 2
}
