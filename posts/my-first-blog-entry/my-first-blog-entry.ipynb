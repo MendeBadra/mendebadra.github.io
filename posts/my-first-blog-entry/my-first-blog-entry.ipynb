{
 "cells": [
  {
   "cell_type": "raw",
   "metadata": {
    "vscode": {
     "languageId": "raw"
    }
   },
   "source": [
    "---\n",
    "title: My First Blog entry\n",
    "date: 2025-03-04\n",
    "description: My initial thoughts about blogs, essays and writing in general.\n",
    "categories: [thoughts]\n",
    "---"
   ]
  },
  {
   "cell_type": "markdown",
   "metadata": {},
   "source": [
    "# About me\n",
    "My name is Mend-Amar and I am from Mongolia. I like coding, Julia and little bit of mathematics. \n",
    "\n",
    "# About blogging\n",
    "I thought blogging could be a very beneficial thing for me. I have many thoughts, many inspirations and most of them seems to go away without much result. For coding, I like programming language called Julia, but Python is a must in recent times. I mainly have this weird thoughts going on in my head that which language to use in particular projects. And recently, as I tried to find scholarships for my master's studies (which I am still not sure about...), I needed to write an essay (personal statement) and I spend like 3 days to write 5 paragraphs and then polished it using ChatGPT. So, I want to improve my writing skills in general. Funnily enough, I got 7.0 in the writing section of the IELTS test, which is a test that has specific format to remember. I don't write IELTS like essays most of the time so, I kinda forgot them.\n",
    "\n",
    "\n",
    "Recently I have found an excellent guide for getting started with `quarto` to write blogs from [The Pleasure of Finding Things Out: A blog by James Triveri](https://www.jtrive.com/posts/creating-gh-pages-blog-with-quarto/creating-gh-pages-blog-with-quarto.html) and I am very thankful for this guy."
   ]
  },
  {
   "cell_type": "markdown",
   "metadata": {},
   "source": []
  }
 ],
 "metadata": {
  "language_info": {
   "name": "python"
  }
 },
 "nbformat": 4,
 "nbformat_minor": 2
}
