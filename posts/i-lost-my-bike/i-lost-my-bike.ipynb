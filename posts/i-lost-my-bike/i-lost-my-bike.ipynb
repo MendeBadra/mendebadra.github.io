{
 "cells": [
  {
   "cell_type": "raw",
   "id": "0067a5e5",
   "metadata": {
    "vscode": {
     "languageId": "raw"
    }
   },
   "source": [
    "---\n",
    "title: I lost my f*king bike\n",
    "date: 2025-06-26\n",
    "description: I have just lost my bike and I feel very down\n",
    "categories: [thoughts]\n",
    "---"
   ]
  },
  {
   "cell_type": "markdown",
   "id": "2f46bb94",
   "metadata": {},
   "source": [
    "<!-- I lost my f\\*king bike. I just lost it. I should’ve never got lazy and left my bike outside. F*ck. It was a thing that genuinely gave me a joy. “You only gonna love her when you let her go” said somebody. I get it now. To this thief, you just stole my most precious thing. It was a modest bike with not much glamour. But it had a value. It was the mode of transport that I enjoyed dearly. I had never had nice toys, good phones etc. But I was exposed to such items from young age because I went to kind of an rich people kids’ school. I don’t have anything against them but truth of the matter was I kinda was poor. During COVID, I truly come to this fact. But I expected to things turn better perhaps too soon. I was still the guy with the poorest in my university graduation ceremony. I might be bit materialist, but, man, I truly wish that for just once in my life, to feel that I’m equal in wealth to my peers. And now, I have nothing. That makes me feel like I’m nothing. -->"
   ]
  },
  {
   "cell_type": "markdown",
   "id": "f55684c1",
   "metadata": {},
   "source": [
    "I had lost my bike. It was a devastating thing for me. I was just starting to enjoy riding a bike. Now the thief has it now. I just wanted to say this."
   ]
  },
  {
   "cell_type": "markdown",
   "id": "f335274a",
   "metadata": {},
   "source": []
  }
 ],
 "metadata": {
  "language_info": {
   "name": "python"
  }
 },
 "nbformat": 4,
 "nbformat_minor": 5
}
