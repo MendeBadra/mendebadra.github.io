{
 "cells": [
  {
   "cell_type": "raw",
   "metadata": {
    "vscode": {
     "languageId": "raw"
    }
   },
   "source": [
    "---\n",
    "title: Why Digital Nomads Should consider Mongolia as their next destination\n",
    "date: 2025-05-20\n",
    "description: My thoughts on why Mongolia is so beautiful and why you should visit Mongolia\n",
    "categories: [thoughts]\n",
    "---"
   ]
  },
  {
   "cell_type": "markdown",
   "metadata": {},
   "source": [
    "Recently, I have been hearing more and more about digital nomads. I think this way of lifestyle is great. But I want to “advertise” my own country, Mongolia, to those digital nomads. \n",
    "\n",
    "First of all, little bit about me. For all of my life, I have been living in Mongolia. I find myself to be lucky because I believe that I have been born into one of the most beautiful countries in the world. That’s because of my childhood, where I spent lot of time in the outdoors. My mother had an American friend and they used to work a caregiving center for the female orphan children. I loved to go on camping to Terelj area and I had a lot of sweet memories there. Looking back, I am grateful for such a nice childhood to my parents. I really did win the “parent” lottery.\n",
    "\n",
    "Anyways, Mongolia is or has always been known for its beautiful nature. Also, it has one of the lowest population to land area ratio. And I suggest you ( a potential visitor) to visit Mongolia during the summer. But if you feel being more adventureous, you could come to us during the winter.\n",
    "\n",
    "Nowadays, it’s becoming really important that any person in the world to have internet connection in any parts of the globe. Although I don’t have much experience in the countryside, I could say that the internet speeds in Ulaanbaatar (or at least in my home) to be excellent. \n",
    "\n",
    "With those facts out of the way, I want to tell you more about the weather. I assume that lot of westerners come from warmer place than my home country. But I kinda love being in the cold place, not using air conditioning. When I watch people’s videos from India, (a guy named geekyranjit, pretty good tech reviewer) they always talk about air conditioning. If you came from a warm place, you could be delighted to know that there is a place that you need no air conditioning.\n",
    "\n",
    "Then there is the vastness of Mongolia’s steppe lands. Last summer, I went to a place called Khustai National Park, where I saw a **Przewalski's horse** and omg they’re pretty. I used to watch **Spirit: Stallion of the Cimarron** which had a horse of the light skin color. So I have fond memories of them.\n",
    "\n",
    "If you want to know more about digital nomad life, I highly recommend this [blog post](https://alexbass.me/posts/digital_nomad_life/) by Alex Bass.\n",
    "\n",
    "\n",
    "Anyways, that’s my two cents for the day."
   ]
  },
  {
   "cell_type": "markdown",
   "metadata": {},
   "source": []
  }
 ],
 "metadata": {
  "language_info": {
   "name": "python"
  }
 },
 "nbformat": 4,
 "nbformat_minor": 2
}
